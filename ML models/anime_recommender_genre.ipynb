{
 "metadata": {
  "language_info": {
   "codemirror_mode": {
    "name": "ipython",
    "version": 3
   },
   "file_extension": ".py",
   "mimetype": "text/x-python",
   "name": "python",
   "nbconvert_exporter": "python",
   "pygments_lexer": "ipython3",
   "version": "3.7.7-final"
  },
  "orig_nbformat": 2,
  "kernelspec": {
   "name": "python3",
   "display_name": "Python 3"
  }
 },
 "nbformat": 4,
 "nbformat_minor": 2,
 "cells": [
  {
   "cell_type": "code",
   "execution_count": 1,
   "metadata": {},
   "outputs": [
    {
     "output_type": "execute_result",
     "data": {
      "text/plain": "        Adventure   Cars   Comedy   Dementia   Demons   Drama   Ecchi  \\\n0               0      0        0          0        0       0       0   \n1               1      0        0          0        0       1       0   \n2               0      0        1          0        0       0       0   \n3               0      0        0          0        0       0       0   \n4               0      0        1          0        0       0       0   \n...           ...    ...      ...        ...      ...     ...     ...   \n12289           0      0        0          0        0       0       0   \n12290           0      0        0          0        0       0       0   \n12291           0      0        0          0        0       0       0   \n12292           0      0        0          0        0       0       0   \n12293           0      0        0          0        0       0       0   \n\n        Fantasy   Game   Harem  ...  Vampire  Yaoi  type_Movie  type_Music  \\\n0             0      0       0  ...        0     0           1           0   \n1             1      0       0  ...        0     0           0           0   \n2             0      0       0  ...        0     0           0           0   \n3             0      0       0  ...        0     0           0           0   \n4             0      0       0  ...        0     0           0           0   \n...         ...    ...     ...  ...      ...   ...         ...         ...   \n12289         0      0       0  ...        0     0           0           0   \n12290         0      0       0  ...        0     0           0           0   \n12291         0      0       0  ...        0     0           0           0   \n12292         0      0       0  ...        0     0           0           0   \n12293         0      0       0  ...        0     0           1           0   \n\n       type_ONA  type_OVA  type_Special  type_TV  rating   members  \n0             0         0             0        0    9.37  200630.0  \n1             0         0             0        1    9.26  793665.0  \n2             0         0             0        1    9.25  114262.0  \n3             0         0             0        1    9.17  673572.0  \n4             0         0             0        1    9.16  151266.0  \n...         ...       ...           ...      ...     ...       ...  \n12289         0         1             0        0    4.15     211.0  \n12290         0         1             0        0    4.28     183.0  \n12291         0         1             0        0    4.88     219.0  \n12292         0         1             0        0    4.98     175.0  \n12293         0         0             0        0    5.46     142.0  \n\n[12294 rows x 90 columns]",
      "text/html": "<div>\n<style scoped>\n    .dataframe tbody tr th:only-of-type {\n        vertical-align: middle;\n    }\n\n    .dataframe tbody tr th {\n        vertical-align: top;\n    }\n\n    .dataframe thead th {\n        text-align: right;\n    }\n</style>\n<table border=\"1\" class=\"dataframe\">\n  <thead>\n    <tr style=\"text-align: right;\">\n      <th></th>\n      <th>Adventure</th>\n      <th>Cars</th>\n      <th>Comedy</th>\n      <th>Dementia</th>\n      <th>Demons</th>\n      <th>Drama</th>\n      <th>Ecchi</th>\n      <th>Fantasy</th>\n      <th>Game</th>\n      <th>Harem</th>\n      <th>...</th>\n      <th>Vampire</th>\n      <th>Yaoi</th>\n      <th>type_Movie</th>\n      <th>type_Music</th>\n      <th>type_ONA</th>\n      <th>type_OVA</th>\n      <th>type_Special</th>\n      <th>type_TV</th>\n      <th>rating</th>\n      <th>members</th>\n    </tr>\n  </thead>\n  <tbody>\n    <tr>\n      <th>0</th>\n      <td>0</td>\n      <td>0</td>\n      <td>0</td>\n      <td>0</td>\n      <td>0</td>\n      <td>0</td>\n      <td>0</td>\n      <td>0</td>\n      <td>0</td>\n      <td>0</td>\n      <td>...</td>\n      <td>0</td>\n      <td>0</td>\n      <td>1</td>\n      <td>0</td>\n      <td>0</td>\n      <td>0</td>\n      <td>0</td>\n      <td>0</td>\n      <td>9.37</td>\n      <td>200630.0</td>\n    </tr>\n    <tr>\n      <th>1</th>\n      <td>1</td>\n      <td>0</td>\n      <td>0</td>\n      <td>0</td>\n      <td>0</td>\n      <td>1</td>\n      <td>0</td>\n      <td>1</td>\n      <td>0</td>\n      <td>0</td>\n      <td>...</td>\n      <td>0</td>\n      <td>0</td>\n      <td>0</td>\n      <td>0</td>\n      <td>0</td>\n      <td>0</td>\n      <td>0</td>\n      <td>1</td>\n      <td>9.26</td>\n      <td>793665.0</td>\n    </tr>\n    <tr>\n      <th>2</th>\n      <td>0</td>\n      <td>0</td>\n      <td>1</td>\n      <td>0</td>\n      <td>0</td>\n      <td>0</td>\n      <td>0</td>\n      <td>0</td>\n      <td>0</td>\n      <td>0</td>\n      <td>...</td>\n      <td>0</td>\n      <td>0</td>\n      <td>0</td>\n      <td>0</td>\n      <td>0</td>\n      <td>0</td>\n      <td>0</td>\n      <td>1</td>\n      <td>9.25</td>\n      <td>114262.0</td>\n    </tr>\n    <tr>\n      <th>3</th>\n      <td>0</td>\n      <td>0</td>\n      <td>0</td>\n      <td>0</td>\n      <td>0</td>\n      <td>0</td>\n      <td>0</td>\n      <td>0</td>\n      <td>0</td>\n      <td>0</td>\n      <td>...</td>\n      <td>0</td>\n      <td>0</td>\n      <td>0</td>\n      <td>0</td>\n      <td>0</td>\n      <td>0</td>\n      <td>0</td>\n      <td>1</td>\n      <td>9.17</td>\n      <td>673572.0</td>\n    </tr>\n    <tr>\n      <th>4</th>\n      <td>0</td>\n      <td>0</td>\n      <td>1</td>\n      <td>0</td>\n      <td>0</td>\n      <td>0</td>\n      <td>0</td>\n      <td>0</td>\n      <td>0</td>\n      <td>0</td>\n      <td>...</td>\n      <td>0</td>\n      <td>0</td>\n      <td>0</td>\n      <td>0</td>\n      <td>0</td>\n      <td>0</td>\n      <td>0</td>\n      <td>1</td>\n      <td>9.16</td>\n      <td>151266.0</td>\n    </tr>\n    <tr>\n      <th>...</th>\n      <td>...</td>\n      <td>...</td>\n      <td>...</td>\n      <td>...</td>\n      <td>...</td>\n      <td>...</td>\n      <td>...</td>\n      <td>...</td>\n      <td>...</td>\n      <td>...</td>\n      <td>...</td>\n      <td>...</td>\n      <td>...</td>\n      <td>...</td>\n      <td>...</td>\n      <td>...</td>\n      <td>...</td>\n      <td>...</td>\n      <td>...</td>\n      <td>...</td>\n      <td>...</td>\n    </tr>\n    <tr>\n      <th>12289</th>\n      <td>0</td>\n      <td>0</td>\n      <td>0</td>\n      <td>0</td>\n      <td>0</td>\n      <td>0</td>\n      <td>0</td>\n      <td>0</td>\n      <td>0</td>\n      <td>0</td>\n      <td>...</td>\n      <td>0</td>\n      <td>0</td>\n      <td>0</td>\n      <td>0</td>\n      <td>0</td>\n      <td>1</td>\n      <td>0</td>\n      <td>0</td>\n      <td>4.15</td>\n      <td>211.0</td>\n    </tr>\n    <tr>\n      <th>12290</th>\n      <td>0</td>\n      <td>0</td>\n      <td>0</td>\n      <td>0</td>\n      <td>0</td>\n      <td>0</td>\n      <td>0</td>\n      <td>0</td>\n      <td>0</td>\n      <td>0</td>\n      <td>...</td>\n      <td>0</td>\n      <td>0</td>\n      <td>0</td>\n      <td>0</td>\n      <td>0</td>\n      <td>1</td>\n      <td>0</td>\n      <td>0</td>\n      <td>4.28</td>\n      <td>183.0</td>\n    </tr>\n    <tr>\n      <th>12291</th>\n      <td>0</td>\n      <td>0</td>\n      <td>0</td>\n      <td>0</td>\n      <td>0</td>\n      <td>0</td>\n      <td>0</td>\n      <td>0</td>\n      <td>0</td>\n      <td>0</td>\n      <td>...</td>\n      <td>0</td>\n      <td>0</td>\n      <td>0</td>\n      <td>0</td>\n      <td>0</td>\n      <td>1</td>\n      <td>0</td>\n      <td>0</td>\n      <td>4.88</td>\n      <td>219.0</td>\n    </tr>\n    <tr>\n      <th>12292</th>\n      <td>0</td>\n      <td>0</td>\n      <td>0</td>\n      <td>0</td>\n      <td>0</td>\n      <td>0</td>\n      <td>0</td>\n      <td>0</td>\n      <td>0</td>\n      <td>0</td>\n      <td>...</td>\n      <td>0</td>\n      <td>0</td>\n      <td>0</td>\n      <td>0</td>\n      <td>0</td>\n      <td>1</td>\n      <td>0</td>\n      <td>0</td>\n      <td>4.98</td>\n      <td>175.0</td>\n    </tr>\n    <tr>\n      <th>12293</th>\n      <td>0</td>\n      <td>0</td>\n      <td>0</td>\n      <td>0</td>\n      <td>0</td>\n      <td>0</td>\n      <td>0</td>\n      <td>0</td>\n      <td>0</td>\n      <td>0</td>\n      <td>...</td>\n      <td>0</td>\n      <td>0</td>\n      <td>1</td>\n      <td>0</td>\n      <td>0</td>\n      <td>0</td>\n      <td>0</td>\n      <td>0</td>\n      <td>5.46</td>\n      <td>142.0</td>\n    </tr>\n  </tbody>\n</table>\n<p>12294 rows × 90 columns</p>\n</div>"
     },
     "metadata": {},
     "execution_count": 1
    }
   ],
   "source": [
    "import numpy as np\n",
    "import pandas as pd\n",
    "from sklearn.preprocessing import StandardScaler\n",
    "from sklearn.neighbors import NearestNeighbors\n",
    "\n",
    "df = pd.read_csv('data/anime.csv')\n",
    "names = list(df.name.values)\n",
    "scaler = StandardScaler()\n",
    "df[\"members\"] = df[\"members\"].astype(float)\n",
    "df[\"rating\"] = df[\"rating\"].astype(float)\n",
    "df[\"rating\"].fillna(df[\"rating\"].mean(),inplace = True)\n",
    "attributes = pd.concat([df[\"genre\"].str.get_dummies(sep=\",\"),pd.get_dummies(df[[\"type\"]]),df[[\"rating\"]],df[[\"members\"]]],axis=1)\n",
    "attributes"
   ]
  },
  {
   "cell_type": "code",
   "execution_count": 2,
   "metadata": {},
   "outputs": [
    {
     "output_type": "execute_result",
     "data": {
      "text/plain": "array([[-0.27953056, -0.05494254, -0.36595578, ..., -0.66720522,\n         2.84753513,  3.33024137],\n       [ 3.57742642, -0.05494254, -0.36595578, ...,  1.49878923,\n         2.73937967, 14.14840622],\n       [-0.27953056, -0.05494254,  2.73257061, ...,  1.49878923,\n         2.72954735,  1.75471335],\n       ...,\n       [-0.27953056, -0.05494254, -0.36595578, ..., -0.66720522,\n        -1.56717438, -0.32566298],\n       [-0.27953056, -0.05494254, -0.36595578, ..., -0.66720522,\n        -1.46885123, -0.32646563],\n       [-0.27953056, -0.05494254, -0.36595578, ..., -0.66720522,\n        -0.9969001 , -0.32706762]])"
     },
     "metadata": {},
     "execution_count": 2
    }
   ],
   "source": [
    "attributes = scaler.fit_transform(attributes)\n",
    "attributes"
   ]
  },
  {
   "cell_type": "code",
   "execution_count": 3,
   "metadata": {},
   "outputs": [],
   "source": [
    "n = NearestNeighbors(n_neighbors=11).fit(attributes)\n",
    "d, ix = n.kneighbors(attributes)"
   ]
  },
  {
   "cell_type": "code",
   "execution_count": 4,
   "metadata": {},
   "outputs": [],
   "source": [
    "def get_index_from_name(name):\n",
    "    return df[df['name']==name].index.tolist()[0]\n",
    "\n",
    "def from_name(x):\n",
    "        id = get_index_from_name(x)\n",
    "        y = []\n",
    "        for i in ix[id][1:]:\n",
    "            y.append(df.iloc[i][\"name\"])\n",
    "        return str(y)\n",
    "\n",
    "def from_id(x):\n",
    "        y = []\n",
    "        for x in ix[x][1:]:\n",
    "            y.append(df.iloc[x][\"name\"])\n",
    "        return str(y)"
   ]
  },
  {
   "cell_type": "code",
   "execution_count": 5,
   "metadata": {},
   "outputs": [
    {
     "output_type": "execute_result",
     "data": {
      "text/plain": "\"['Naruto: Shippuuden', 'Dragon Ball Z', 'Bleach', 'Dragon Ball', 'Kill la Kill', 'Shingeki no Kyojin', 'One Piece', 'Hunter x Hunter (2011)', 'Guilty Crown', 'Katekyo Hitman Reborn!']\""
     },
     "metadata": {},
     "execution_count": 5
    }
   ],
   "source": [
    "from_name('Naruto')"
   ]
  },
  {
   "cell_type": "code",
   "execution_count": null,
   "metadata": {},
   "outputs": [],
   "source": []
  }
 ]
}